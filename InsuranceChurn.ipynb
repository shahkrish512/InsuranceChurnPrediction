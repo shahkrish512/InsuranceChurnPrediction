{
 "cells": [
  {
   "cell_type": "code",
   "execution_count": 1,
   "metadata": {},
   "outputs": [],
   "source": [
    "import pandas as pd\n",
    "import numpy as np"
   ]
  },
  {
   "cell_type": "code",
   "execution_count": 2,
   "metadata": {},
   "outputs": [],
   "source": [
    "#to plot within notebook\n",
    "import matplotlib.pyplot as plt\n",
    "%matplotlib inline"
   ]
  },
  {
   "cell_type": "code",
   "execution_count": 3,
   "metadata": {},
   "outputs": [],
   "source": [
    "#setting figure size\n",
    "from matplotlib.pylab import rcParams\n",
    "rcParams['figure.figsize'] = 20,10"
   ]
  },
  {
   "cell_type": "code",
   "execution_count": 4,
   "metadata": {},
   "outputs": [],
   "source": [
    "#for normalizing data\n",
    "from sklearn.preprocessing import MinMaxScaler\n",
    "scaler = MinMaxScaler(feature_range=(0, 1))"
   ]
  },
  {
   "cell_type": "code",
   "execution_count": 5,
   "metadata": {},
   "outputs": [],
   "source": [
    "#read the file\n",
    "df = pd.read_csv('Train.csv')"
   ]
  },
  {
   "cell_type": "code",
   "execution_count": 6,
   "metadata": {},
   "outputs": [
    {
     "data": {
      "text/html": [
       "<div>\n",
       "<style scoped>\n",
       "    .dataframe tbody tr th:only-of-type {\n",
       "        vertical-align: middle;\n",
       "    }\n",
       "\n",
       "    .dataframe tbody tr th {\n",
       "        vertical-align: top;\n",
       "    }\n",
       "\n",
       "    .dataframe thead th {\n",
       "        text-align: right;\n",
       "    }\n",
       "</style>\n",
       "<table border=\"1\" class=\"dataframe\">\n",
       "  <thead>\n",
       "    <tr style=\"text-align: right;\">\n",
       "      <th></th>\n",
       "      <th>feature_0</th>\n",
       "      <th>feature_1</th>\n",
       "      <th>feature_2</th>\n",
       "      <th>feature_3</th>\n",
       "      <th>feature_4</th>\n",
       "      <th>feature_5</th>\n",
       "      <th>feature_6</th>\n",
       "      <th>feature_7</th>\n",
       "      <th>feature_8</th>\n",
       "      <th>feature_9</th>\n",
       "      <th>feature_10</th>\n",
       "      <th>feature_11</th>\n",
       "      <th>feature_12</th>\n",
       "      <th>feature_13</th>\n",
       "      <th>feature_14</th>\n",
       "      <th>feature_15</th>\n",
       "      <th>labels</th>\n",
       "    </tr>\n",
       "  </thead>\n",
       "  <tbody>\n",
       "    <tr>\n",
       "      <th>0</th>\n",
       "      <td>-0.276515</td>\n",
       "      <td>-0.424429</td>\n",
       "      <td>1.344997</td>\n",
       "      <td>-0.012283</td>\n",
       "      <td>0.076230</td>\n",
       "      <td>1.076648</td>\n",
       "      <td>0.182198</td>\n",
       "      <td>3</td>\n",
       "      <td>0</td>\n",
       "      <td>1</td>\n",
       "      <td>0</td>\n",
       "      <td>0</td>\n",
       "      <td>0</td>\n",
       "      <td>0</td>\n",
       "      <td>10</td>\n",
       "      <td>2</td>\n",
       "      <td>1</td>\n",
       "    </tr>\n",
       "    <tr>\n",
       "      <th>1</th>\n",
       "      <td>0.853573</td>\n",
       "      <td>0.150991</td>\n",
       "      <td>0.503892</td>\n",
       "      <td>-0.979179</td>\n",
       "      <td>-0.569351</td>\n",
       "      <td>-0.411453</td>\n",
       "      <td>-0.251940</td>\n",
       "      <td>4</td>\n",
       "      <td>1</td>\n",
       "      <td>2</td>\n",
       "      <td>0</td>\n",
       "      <td>1</td>\n",
       "      <td>0</td>\n",
       "      <td>0</td>\n",
       "      <td>0</td>\n",
       "      <td>3</td>\n",
       "      <td>0</td>\n",
       "    </tr>\n",
       "    <tr>\n",
       "      <th>2</th>\n",
       "      <td>0.947747</td>\n",
       "      <td>-0.173832</td>\n",
       "      <td>1.825628</td>\n",
       "      <td>-0.703478</td>\n",
       "      <td>0.076230</td>\n",
       "      <td>-0.411453</td>\n",
       "      <td>-0.251940</td>\n",
       "      <td>6</td>\n",
       "      <td>1</td>\n",
       "      <td>2</td>\n",
       "      <td>0</td>\n",
       "      <td>0</td>\n",
       "      <td>0</td>\n",
       "      <td>0</td>\n",
       "      <td>5</td>\n",
       "      <td>3</td>\n",
       "      <td>0</td>\n",
       "    </tr>\n",
       "    <tr>\n",
       "      <th>3</th>\n",
       "      <td>0.853573</td>\n",
       "      <td>-0.381404</td>\n",
       "      <td>0.984523</td>\n",
       "      <td>-0.039464</td>\n",
       "      <td>-0.569351</td>\n",
       "      <td>-0.411453</td>\n",
       "      <td>-0.251940</td>\n",
       "      <td>4</td>\n",
       "      <td>0</td>\n",
       "      <td>2</td>\n",
       "      <td>0</td>\n",
       "      <td>1</td>\n",
       "      <td>0</td>\n",
       "      <td>0</td>\n",
       "      <td>5</td>\n",
       "      <td>3</td>\n",
       "      <td>0</td>\n",
       "    </tr>\n",
       "    <tr>\n",
       "      <th>4</th>\n",
       "      <td>1.324443</td>\n",
       "      <td>1.590527</td>\n",
       "      <td>-1.178318</td>\n",
       "      <td>-0.097711</td>\n",
       "      <td>-0.246560</td>\n",
       "      <td>-0.411453</td>\n",
       "      <td>-0.251940</td>\n",
       "      <td>0</td>\n",
       "      <td>1</td>\n",
       "      <td>1</td>\n",
       "      <td>0</td>\n",
       "      <td>0</td>\n",
       "      <td>0</td>\n",
       "      <td>0</td>\n",
       "      <td>8</td>\n",
       "      <td>3</td>\n",
       "      <td>0</td>\n",
       "    </tr>\n",
       "  </tbody>\n",
       "</table>\n",
       "</div>"
      ],
      "text/plain": [
       "   feature_0  feature_1  feature_2  feature_3  feature_4  feature_5  \\\n",
       "0  -0.276515  -0.424429   1.344997  -0.012283   0.076230   1.076648   \n",
       "1   0.853573   0.150991   0.503892  -0.979179  -0.569351  -0.411453   \n",
       "2   0.947747  -0.173832   1.825628  -0.703478   0.076230  -0.411453   \n",
       "3   0.853573  -0.381404   0.984523  -0.039464  -0.569351  -0.411453   \n",
       "4   1.324443   1.590527  -1.178318  -0.097711  -0.246560  -0.411453   \n",
       "\n",
       "   feature_6  feature_7  feature_8  feature_9  feature_10  feature_11  \\\n",
       "0   0.182198          3          0          1           0           0   \n",
       "1  -0.251940          4          1          2           0           1   \n",
       "2  -0.251940          6          1          2           0           0   \n",
       "3  -0.251940          4          0          2           0           1   \n",
       "4  -0.251940          0          1          1           0           0   \n",
       "\n",
       "   feature_12  feature_13  feature_14  feature_15  labels  \n",
       "0           0           0          10           2       1  \n",
       "1           0           0           0           3       0  \n",
       "2           0           0           5           3       0  \n",
       "3           0           0           5           3       0  \n",
       "4           0           0           8           3       0  "
      ]
     },
     "execution_count": 6,
     "metadata": {},
     "output_type": "execute_result"
    }
   ],
   "source": [
    "df.head()"
   ]
  },
  {
   "cell_type": "code",
   "execution_count": 7,
   "metadata": {},
   "outputs": [
    {
     "data": {
      "text/plain": [
       "(33908, 17)"
      ]
     },
     "execution_count": 7,
     "metadata": {},
     "output_type": "execute_result"
    }
   ],
   "source": [
    "#total number of rows and columns in the data set\n",
    "df.shape"
   ]
  },
  {
   "cell_type": "code",
   "execution_count": 8,
   "metadata": {},
   "outputs": [
    {
     "name": "stdout",
     "output_type": "stream",
     "text": [
      "<class 'pandas.core.frame.DataFrame'>\n",
      "RangeIndex: 33908 entries, 0 to 33907\n",
      "Data columns (total 17 columns):\n",
      " #   Column      Non-Null Count  Dtype  \n",
      "---  ------      --------------  -----  \n",
      " 0   feature_0   33908 non-null  float64\n",
      " 1   feature_1   33908 non-null  float64\n",
      " 2   feature_2   33908 non-null  float64\n",
      " 3   feature_3   33908 non-null  float64\n",
      " 4   feature_4   33908 non-null  float64\n",
      " 5   feature_5   33908 non-null  float64\n",
      " 6   feature_6   33908 non-null  float64\n",
      " 7   feature_7   33908 non-null  int64  \n",
      " 8   feature_8   33908 non-null  int64  \n",
      " 9   feature_9   33908 non-null  int64  \n",
      " 10  feature_10  33908 non-null  int64  \n",
      " 11  feature_11  33908 non-null  int64  \n",
      " 12  feature_12  33908 non-null  int64  \n",
      " 13  feature_13  33908 non-null  int64  \n",
      " 14  feature_14  33908 non-null  int64  \n",
      " 15  feature_15  33908 non-null  int64  \n",
      " 16  labels      33908 non-null  int64  \n",
      "dtypes: float64(7), int64(10)\n",
      "memory usage: 4.4 MB\n"
     ]
    }
   ],
   "source": [
    "df.info()"
   ]
  },
  {
   "cell_type": "code",
   "execution_count": 9,
   "metadata": {},
   "outputs": [
    {
     "data": {
      "text/html": [
       "<div>\n",
       "<style scoped>\n",
       "    .dataframe tbody tr th:only-of-type {\n",
       "        vertical-align: middle;\n",
       "    }\n",
       "\n",
       "    .dataframe tbody tr th {\n",
       "        vertical-align: top;\n",
       "    }\n",
       "\n",
       "    .dataframe thead th {\n",
       "        text-align: right;\n",
       "    }\n",
       "</style>\n",
       "<table border=\"1\" class=\"dataframe\">\n",
       "  <thead>\n",
       "    <tr style=\"text-align: right;\">\n",
       "      <th></th>\n",
       "      <th>feature_0</th>\n",
       "      <th>feature_1</th>\n",
       "      <th>feature_2</th>\n",
       "      <th>feature_3</th>\n",
       "      <th>feature_4</th>\n",
       "      <th>feature_5</th>\n",
       "      <th>feature_6</th>\n",
       "      <th>feature_7</th>\n",
       "      <th>feature_8</th>\n",
       "      <th>feature_9</th>\n",
       "      <th>feature_10</th>\n",
       "      <th>feature_11</th>\n",
       "      <th>feature_12</th>\n",
       "      <th>feature_13</th>\n",
       "      <th>feature_14</th>\n",
       "      <th>feature_15</th>\n",
       "      <th>labels</th>\n",
       "    </tr>\n",
       "  </thead>\n",
       "  <tbody>\n",
       "    <tr>\n",
       "      <th>count</th>\n",
       "      <td>33908.000000</td>\n",
       "      <td>33908.000000</td>\n",
       "      <td>33908.000000</td>\n",
       "      <td>33908.000000</td>\n",
       "      <td>33908.000000</td>\n",
       "      <td>33908.000000</td>\n",
       "      <td>33908.000000</td>\n",
       "      <td>33908.000000</td>\n",
       "      <td>33908.000000</td>\n",
       "      <td>33908.000000</td>\n",
       "      <td>33908.000000</td>\n",
       "      <td>33908.000000</td>\n",
       "      <td>33908.000000</td>\n",
       "      <td>33908.000000</td>\n",
       "      <td>33908.000000</td>\n",
       "      <td>33908.000000</td>\n",
       "      <td>33908.000000</td>\n",
       "    </tr>\n",
       "    <tr>\n",
       "      <th>mean</th>\n",
       "      <td>-0.004158</td>\n",
       "      <td>0.002584</td>\n",
       "      <td>-0.000213</td>\n",
       "      <td>-0.000053</td>\n",
       "      <td>-0.000298</td>\n",
       "      <td>-0.004652</td>\n",
       "      <td>-0.007498</td>\n",
       "      <td>4.336381</td>\n",
       "      <td>1.171051</td>\n",
       "      <td>1.225345</td>\n",
       "      <td>0.018137</td>\n",
       "      <td>0.555503</td>\n",
       "      <td>0.159667</td>\n",
       "      <td>0.639407</td>\n",
       "      <td>5.520497</td>\n",
       "      <td>2.562375</td>\n",
       "      <td>0.116993</td>\n",
       "    </tr>\n",
       "    <tr>\n",
       "      <th>std</th>\n",
       "      <td>0.999776</td>\n",
       "      <td>1.014268</td>\n",
       "      <td>1.000872</td>\n",
       "      <td>1.002512</td>\n",
       "      <td>1.003724</td>\n",
       "      <td>0.993984</td>\n",
       "      <td>0.802696</td>\n",
       "      <td>3.273376</td>\n",
       "      <td>0.606730</td>\n",
       "      <td>0.749104</td>\n",
       "      <td>0.133450</td>\n",
       "      <td>0.496917</td>\n",
       "      <td>0.366303</td>\n",
       "      <td>0.897627</td>\n",
       "      <td>3.003241</td>\n",
       "      <td>0.987148</td>\n",
       "      <td>0.321417</td>\n",
       "    </tr>\n",
       "    <tr>\n",
       "      <th>min</th>\n",
       "      <td>-2.159994</td>\n",
       "      <td>-3.081149</td>\n",
       "      <td>-1.779108</td>\n",
       "      <td>-1.002478</td>\n",
       "      <td>-0.569351</td>\n",
       "      <td>-0.411453</td>\n",
       "      <td>-0.251940</td>\n",
       "      <td>0.000000</td>\n",
       "      <td>0.000000</td>\n",
       "      <td>0.000000</td>\n",
       "      <td>0.000000</td>\n",
       "      <td>0.000000</td>\n",
       "      <td>0.000000</td>\n",
       "      <td>0.000000</td>\n",
       "      <td>0.000000</td>\n",
       "      <td>0.000000</td>\n",
       "      <td>0.000000</td>\n",
       "    </tr>\n",
       "    <tr>\n",
       "      <th>25%</th>\n",
       "      <td>-0.747384</td>\n",
       "      <td>-0.422787</td>\n",
       "      <td>-0.938003</td>\n",
       "      <td>-0.602517</td>\n",
       "      <td>-0.569351</td>\n",
       "      <td>-0.411453</td>\n",
       "      <td>-0.251940</td>\n",
       "      <td>1.000000</td>\n",
       "      <td>1.000000</td>\n",
       "      <td>1.000000</td>\n",
       "      <td>0.000000</td>\n",
       "      <td>0.000000</td>\n",
       "      <td>0.000000</td>\n",
       "      <td>0.000000</td>\n",
       "      <td>3.000000</td>\n",
       "      <td>3.000000</td>\n",
       "      <td>0.000000</td>\n",
       "    </tr>\n",
       "    <tr>\n",
       "      <th>50%</th>\n",
       "      <td>-0.182341</td>\n",
       "      <td>-0.297324</td>\n",
       "      <td>0.023260</td>\n",
       "      <td>-0.303517</td>\n",
       "      <td>-0.246560</td>\n",
       "      <td>-0.411453</td>\n",
       "      <td>-0.251940</td>\n",
       "      <td>4.000000</td>\n",
       "      <td>1.000000</td>\n",
       "      <td>1.000000</td>\n",
       "      <td>0.000000</td>\n",
       "      <td>1.000000</td>\n",
       "      <td>0.000000</td>\n",
       "      <td>0.000000</td>\n",
       "      <td>6.000000</td>\n",
       "      <td>3.000000</td>\n",
       "      <td>0.000000</td>\n",
       "    </tr>\n",
       "    <tr>\n",
       "      <th>75%</th>\n",
       "      <td>0.665225</td>\n",
       "      <td>0.022901</td>\n",
       "      <td>0.624050</td>\n",
       "      <td>0.236237</td>\n",
       "      <td>0.076230</td>\n",
       "      <td>-0.411453</td>\n",
       "      <td>-0.251940</td>\n",
       "      <td>7.000000</td>\n",
       "      <td>2.000000</td>\n",
       "      <td>2.000000</td>\n",
       "      <td>0.000000</td>\n",
       "      <td>1.000000</td>\n",
       "      <td>0.000000</td>\n",
       "      <td>2.000000</td>\n",
       "      <td>8.000000</td>\n",
       "      <td>3.000000</td>\n",
       "      <td>0.000000</td>\n",
       "    </tr>\n",
       "    <tr>\n",
       "      <th>max</th>\n",
       "      <td>5.091402</td>\n",
       "      <td>33.094776</td>\n",
       "      <td>1.825628</td>\n",
       "      <td>18.094700</td>\n",
       "      <td>19.443647</td>\n",
       "      <td>8.127648</td>\n",
       "      <td>23.625644</td>\n",
       "      <td>11.000000</td>\n",
       "      <td>2.000000</td>\n",
       "      <td>3.000000</td>\n",
       "      <td>1.000000</td>\n",
       "      <td>1.000000</td>\n",
       "      <td>1.000000</td>\n",
       "      <td>2.000000</td>\n",
       "      <td>11.000000</td>\n",
       "      <td>3.000000</td>\n",
       "      <td>1.000000</td>\n",
       "    </tr>\n",
       "  </tbody>\n",
       "</table>\n",
       "</div>"
      ],
      "text/plain": [
       "          feature_0     feature_1     feature_2     feature_3     feature_4  \\\n",
       "count  33908.000000  33908.000000  33908.000000  33908.000000  33908.000000   \n",
       "mean      -0.004158      0.002584     -0.000213     -0.000053     -0.000298   \n",
       "std        0.999776      1.014268      1.000872      1.002512      1.003724   \n",
       "min       -2.159994     -3.081149     -1.779108     -1.002478     -0.569351   \n",
       "25%       -0.747384     -0.422787     -0.938003     -0.602517     -0.569351   \n",
       "50%       -0.182341     -0.297324      0.023260     -0.303517     -0.246560   \n",
       "75%        0.665225      0.022901      0.624050      0.236237      0.076230   \n",
       "max        5.091402     33.094776      1.825628     18.094700     19.443647   \n",
       "\n",
       "          feature_5     feature_6     feature_7     feature_8     feature_9  \\\n",
       "count  33908.000000  33908.000000  33908.000000  33908.000000  33908.000000   \n",
       "mean      -0.004652     -0.007498      4.336381      1.171051      1.225345   \n",
       "std        0.993984      0.802696      3.273376      0.606730      0.749104   \n",
       "min       -0.411453     -0.251940      0.000000      0.000000      0.000000   \n",
       "25%       -0.411453     -0.251940      1.000000      1.000000      1.000000   \n",
       "50%       -0.411453     -0.251940      4.000000      1.000000      1.000000   \n",
       "75%       -0.411453     -0.251940      7.000000      2.000000      2.000000   \n",
       "max        8.127648     23.625644     11.000000      2.000000      3.000000   \n",
       "\n",
       "         feature_10    feature_11    feature_12    feature_13    feature_14  \\\n",
       "count  33908.000000  33908.000000  33908.000000  33908.000000  33908.000000   \n",
       "mean       0.018137      0.555503      0.159667      0.639407      5.520497   \n",
       "std        0.133450      0.496917      0.366303      0.897627      3.003241   \n",
       "min        0.000000      0.000000      0.000000      0.000000      0.000000   \n",
       "25%        0.000000      0.000000      0.000000      0.000000      3.000000   \n",
       "50%        0.000000      1.000000      0.000000      0.000000      6.000000   \n",
       "75%        0.000000      1.000000      0.000000      2.000000      8.000000   \n",
       "max        1.000000      1.000000      1.000000      2.000000     11.000000   \n",
       "\n",
       "         feature_15        labels  \n",
       "count  33908.000000  33908.000000  \n",
       "mean       2.562375      0.116993  \n",
       "std        0.987148      0.321417  \n",
       "min        0.000000      0.000000  \n",
       "25%        3.000000      0.000000  \n",
       "50%        3.000000      0.000000  \n",
       "75%        3.000000      0.000000  \n",
       "max        3.000000      1.000000  "
      ]
     },
     "execution_count": 9,
     "metadata": {},
     "output_type": "execute_result"
    }
   ],
   "source": [
    "df.describe()"
   ]
  },
  {
   "cell_type": "code",
   "execution_count": 10,
   "metadata": {},
   "outputs": [
    {
     "data": {
      "text/html": [
       "<div>\n",
       "<style scoped>\n",
       "    .dataframe tbody tr th:only-of-type {\n",
       "        vertical-align: middle;\n",
       "    }\n",
       "\n",
       "    .dataframe tbody tr th {\n",
       "        vertical-align: top;\n",
       "    }\n",
       "\n",
       "    .dataframe thead th {\n",
       "        text-align: right;\n",
       "    }\n",
       "</style>\n",
       "<table border=\"1\" class=\"dataframe\">\n",
       "  <thead>\n",
       "    <tr style=\"text-align: right;\">\n",
       "      <th></th>\n",
       "      <th>feature_0</th>\n",
       "      <th>feature_1</th>\n",
       "      <th>feature_2</th>\n",
       "      <th>feature_3</th>\n",
       "      <th>feature_4</th>\n",
       "      <th>feature_5</th>\n",
       "      <th>feature_6</th>\n",
       "      <th>feature_7</th>\n",
       "      <th>feature_8</th>\n",
       "      <th>feature_9</th>\n",
       "      <th>feature_10</th>\n",
       "      <th>feature_11</th>\n",
       "      <th>feature_12</th>\n",
       "      <th>feature_13</th>\n",
       "      <th>feature_14</th>\n",
       "      <th>feature_15</th>\n",
       "      <th>labels</th>\n",
       "    </tr>\n",
       "  </thead>\n",
       "  <tbody>\n",
       "    <tr>\n",
       "      <th>feature_0</th>\n",
       "      <td>1.000000</td>\n",
       "      <td>0.096391</td>\n",
       "      <td>-0.011224</td>\n",
       "      <td>-0.007262</td>\n",
       "      <td>0.003125</td>\n",
       "      <td>-0.021076</td>\n",
       "      <td>0.003105</td>\n",
       "      <td>-0.020858</td>\n",
       "      <td>-0.406850</td>\n",
       "      <td>-0.105244</td>\n",
       "      <td>-0.020580</td>\n",
       "      <td>-0.182078</td>\n",
       "      <td>-0.015597</td>\n",
       "      <td>0.028699</td>\n",
       "      <td>-0.040374</td>\n",
       "      <td>0.006381</td>\n",
       "      <td>0.019405</td>\n",
       "    </tr>\n",
       "    <tr>\n",
       "      <th>feature_1</th>\n",
       "      <td>0.096391</td>\n",
       "      <td>1.000000</td>\n",
       "      <td>0.005365</td>\n",
       "      <td>0.017720</td>\n",
       "      <td>-0.013162</td>\n",
       "      <td>0.004524</td>\n",
       "      <td>0.021292</td>\n",
       "      <td>0.018648</td>\n",
       "      <td>-0.000714</td>\n",
       "      <td>0.065006</td>\n",
       "      <td>-0.066072</td>\n",
       "      <td>-0.070495</td>\n",
       "      <td>-0.083485</td>\n",
       "      <td>-0.030686</td>\n",
       "      <td>0.015220</td>\n",
       "      <td>-0.021289</td>\n",
       "      <td>0.048611</td>\n",
       "    </tr>\n",
       "    <tr>\n",
       "      <th>feature_2</th>\n",
       "      <td>-0.011224</td>\n",
       "      <td>0.005365</td>\n",
       "      <td>1.000000</td>\n",
       "      <td>-0.031505</td>\n",
       "      <td>0.162574</td>\n",
       "      <td>-0.095046</td>\n",
       "      <td>-0.055874</td>\n",
       "      <td>0.023044</td>\n",
       "      <td>-0.006331</td>\n",
       "      <td>0.022440</td>\n",
       "      <td>0.012235</td>\n",
       "      <td>-0.027770</td>\n",
       "      <td>0.007430</td>\n",
       "      <td>-0.029314</td>\n",
       "      <td>-0.005105</td>\n",
       "      <td>0.084358</td>\n",
       "      <td>-0.033345</td>\n",
       "    </tr>\n",
       "    <tr>\n",
       "      <th>feature_3</th>\n",
       "      <td>-0.007262</td>\n",
       "      <td>0.017720</td>\n",
       "      <td>-0.031505</td>\n",
       "      <td>1.000000</td>\n",
       "      <td>-0.084617</td>\n",
       "      <td>0.001482</td>\n",
       "      <td>0.001489</td>\n",
       "      <td>0.000688</td>\n",
       "      <td>0.011788</td>\n",
       "      <td>0.003468</td>\n",
       "      <td>-0.010831</td>\n",
       "      <td>0.009210</td>\n",
       "      <td>-0.009263</td>\n",
       "      <td>-0.020733</td>\n",
       "      <td>0.006277</td>\n",
       "      <td>0.009662</td>\n",
       "      <td>0.392971</td>\n",
       "    </tr>\n",
       "    <tr>\n",
       "      <th>feature_4</th>\n",
       "      <td>0.003125</td>\n",
       "      <td>-0.013162</td>\n",
       "      <td>0.162574</td>\n",
       "      <td>-0.084617</td>\n",
       "      <td>1.000000</td>\n",
       "      <td>-0.091533</td>\n",
       "      <td>-0.045145</td>\n",
       "      <td>0.007676</td>\n",
       "      <td>-0.009894</td>\n",
       "      <td>0.004970</td>\n",
       "      <td>0.017115</td>\n",
       "      <td>-0.020753</td>\n",
       "      <td>0.005064</td>\n",
       "      <td>0.024970</td>\n",
       "      <td>-0.109652</td>\n",
       "      <td>0.105265</td>\n",
       "      <td>-0.075025</td>\n",
       "    </tr>\n",
       "    <tr>\n",
       "      <th>feature_5</th>\n",
       "      <td>-0.021076</td>\n",
       "      <td>0.004524</td>\n",
       "      <td>-0.095046</td>\n",
       "      <td>0.001482</td>\n",
       "      <td>-0.091533</td>\n",
       "      <td>1.000000</td>\n",
       "      <td>0.547919</td>\n",
       "      <td>-0.022786</td>\n",
       "      <td>0.017101</td>\n",
       "      <td>0.003437</td>\n",
       "      <td>-0.027930</td>\n",
       "      <td>0.122215</td>\n",
       "      <td>-0.022871</td>\n",
       "      <td>-0.243657</td>\n",
       "      <td>0.031530</td>\n",
       "      <td>-0.856851</td>\n",
       "      <td>0.106239</td>\n",
       "    </tr>\n",
       "    <tr>\n",
       "      <th>feature_6</th>\n",
       "      <td>0.003105</td>\n",
       "      <td>0.021292</td>\n",
       "      <td>-0.055874</td>\n",
       "      <td>0.001489</td>\n",
       "      <td>-0.045145</td>\n",
       "      <td>0.547919</td>\n",
       "      <td>1.000000</td>\n",
       "      <td>0.001753</td>\n",
       "      <td>0.019752</td>\n",
       "      <td>0.021266</td>\n",
       "      <td>-0.018799</td>\n",
       "      <td>0.039526</td>\n",
       "      <td>-0.010990</td>\n",
       "      <td>-0.176610</td>\n",
       "      <td>0.030134</td>\n",
       "      <td>-0.594264</td>\n",
       "      <td>0.119322</td>\n",
       "    </tr>\n",
       "    <tr>\n",
       "      <th>feature_7</th>\n",
       "      <td>-0.020858</td>\n",
       "      <td>0.018648</td>\n",
       "      <td>0.023044</td>\n",
       "      <td>0.000688</td>\n",
       "      <td>0.007676</td>\n",
       "      <td>-0.022786</td>\n",
       "      <td>0.001753</td>\n",
       "      <td>1.000000</td>\n",
       "      <td>0.058998</td>\n",
       "      <td>0.163618</td>\n",
       "      <td>-0.007553</td>\n",
       "      <td>-0.124799</td>\n",
       "      <td>-0.034169</td>\n",
       "      <td>-0.080982</td>\n",
       "      <td>-0.091335</td>\n",
       "      <td>0.009890</td>\n",
       "      <td>0.038588</td>\n",
       "    </tr>\n",
       "    <tr>\n",
       "      <th>feature_8</th>\n",
       "      <td>-0.406850</td>\n",
       "      <td>-0.000714</td>\n",
       "      <td>-0.006331</td>\n",
       "      <td>0.011788</td>\n",
       "      <td>-0.009894</td>\n",
       "      <td>0.017101</td>\n",
       "      <td>0.019752</td>\n",
       "      <td>0.058998</td>\n",
       "      <td>1.000000</td>\n",
       "      <td>0.108495</td>\n",
       "      <td>-0.005900</td>\n",
       "      <td>-0.014665</td>\n",
       "      <td>-0.046986</td>\n",
       "      <td>-0.035879</td>\n",
       "      <td>-0.005906</td>\n",
       "      <td>-0.015697</td>\n",
       "      <td>0.046193</td>\n",
       "    </tr>\n",
       "    <tr>\n",
       "      <th>feature_9</th>\n",
       "      <td>-0.105244</td>\n",
       "      <td>0.065006</td>\n",
       "      <td>0.022440</td>\n",
       "      <td>0.003468</td>\n",
       "      <td>0.004970</td>\n",
       "      <td>0.003437</td>\n",
       "      <td>0.021266</td>\n",
       "      <td>0.163618</td>\n",
       "      <td>0.108495</td>\n",
       "      <td>1.000000</td>\n",
       "      <td>-0.013744</td>\n",
       "      <td>-0.090923</td>\n",
       "      <td>-0.046003</td>\n",
       "      <td>-0.112665</td>\n",
       "      <td>-0.058534</td>\n",
       "      <td>-0.022458</td>\n",
       "      <td>0.068356</td>\n",
       "    </tr>\n",
       "    <tr>\n",
       "      <th>feature_10</th>\n",
       "      <td>-0.020580</td>\n",
       "      <td>-0.066072</td>\n",
       "      <td>0.012235</td>\n",
       "      <td>-0.010831</td>\n",
       "      <td>0.017115</td>\n",
       "      <td>-0.027930</td>\n",
       "      <td>-0.018799</td>\n",
       "      <td>-0.007553</td>\n",
       "      <td>-0.005900</td>\n",
       "      <td>-0.013744</td>\n",
       "      <td>1.000000</td>\n",
       "      <td>-0.005174</td>\n",
       "      <td>0.078315</td>\n",
       "      <td>0.013976</td>\n",
       "      <td>0.013017</td>\n",
       "      <td>0.032717</td>\n",
       "      <td>-0.023344</td>\n",
       "    </tr>\n",
       "    <tr>\n",
       "      <th>feature_11</th>\n",
       "      <td>-0.182078</td>\n",
       "      <td>-0.070495</td>\n",
       "      <td>-0.027770</td>\n",
       "      <td>0.009210</td>\n",
       "      <td>-0.020753</td>\n",
       "      <td>0.122215</td>\n",
       "      <td>0.039526</td>\n",
       "      <td>-0.124799</td>\n",
       "      <td>-0.014665</td>\n",
       "      <td>-0.090923</td>\n",
       "      <td>-0.005174</td>\n",
       "      <td>1.000000</td>\n",
       "      <td>0.042371</td>\n",
       "      <td>0.188053</td>\n",
       "      <td>0.267342</td>\n",
       "      <td>-0.099257</td>\n",
       "      <td>-0.135662</td>\n",
       "    </tr>\n",
       "    <tr>\n",
       "      <th>feature_12</th>\n",
       "      <td>-0.015597</td>\n",
       "      <td>-0.083485</td>\n",
       "      <td>0.007430</td>\n",
       "      <td>-0.009263</td>\n",
       "      <td>0.005064</td>\n",
       "      <td>-0.022871</td>\n",
       "      <td>-0.010990</td>\n",
       "      <td>-0.034169</td>\n",
       "      <td>-0.046986</td>\n",
       "      <td>-0.046003</td>\n",
       "      <td>0.078315</td>\n",
       "      <td>0.042371</td>\n",
       "      <td>1.000000</td>\n",
       "      <td>-0.010203</td>\n",
       "      <td>0.025174</td>\n",
       "      <td>0.016092</td>\n",
       "      <td>-0.065480</td>\n",
       "    </tr>\n",
       "    <tr>\n",
       "      <th>feature_13</th>\n",
       "      <td>0.028699</td>\n",
       "      <td>-0.030686</td>\n",
       "      <td>-0.029314</td>\n",
       "      <td>-0.020733</td>\n",
       "      <td>0.024970</td>\n",
       "      <td>-0.243657</td>\n",
       "      <td>-0.176610</td>\n",
       "      <td>-0.080982</td>\n",
       "      <td>-0.035879</td>\n",
       "      <td>-0.112665</td>\n",
       "      <td>0.013976</td>\n",
       "      <td>0.188053</td>\n",
       "      <td>-0.010203</td>\n",
       "      <td>1.000000</td>\n",
       "      <td>0.361038</td>\n",
       "      <td>0.270935</td>\n",
       "      <td>-0.148583</td>\n",
       "    </tr>\n",
       "    <tr>\n",
       "      <th>feature_14</th>\n",
       "      <td>-0.040374</td>\n",
       "      <td>0.015220</td>\n",
       "      <td>-0.005105</td>\n",
       "      <td>0.006277</td>\n",
       "      <td>-0.109652</td>\n",
       "      <td>0.031530</td>\n",
       "      <td>0.030134</td>\n",
       "      <td>-0.091335</td>\n",
       "      <td>-0.005906</td>\n",
       "      <td>-0.058534</td>\n",
       "      <td>0.013017</td>\n",
       "      <td>0.267342</td>\n",
       "      <td>0.025174</td>\n",
       "      <td>0.361038</td>\n",
       "      <td>1.000000</td>\n",
       "      <td>-0.033727</td>\n",
       "      <td>-0.026178</td>\n",
       "    </tr>\n",
       "    <tr>\n",
       "      <th>feature_15</th>\n",
       "      <td>0.006381</td>\n",
       "      <td>-0.021289</td>\n",
       "      <td>0.084358</td>\n",
       "      <td>0.009662</td>\n",
       "      <td>0.105265</td>\n",
       "      <td>-0.856851</td>\n",
       "      <td>-0.594264</td>\n",
       "      <td>0.009890</td>\n",
       "      <td>-0.015697</td>\n",
       "      <td>-0.022458</td>\n",
       "      <td>0.032717</td>\n",
       "      <td>-0.099257</td>\n",
       "      <td>0.016092</td>\n",
       "      <td>0.270935</td>\n",
       "      <td>-0.033727</td>\n",
       "      <td>1.000000</td>\n",
       "      <td>-0.079190</td>\n",
       "    </tr>\n",
       "    <tr>\n",
       "      <th>labels</th>\n",
       "      <td>0.019405</td>\n",
       "      <td>0.048611</td>\n",
       "      <td>-0.033345</td>\n",
       "      <td>0.392971</td>\n",
       "      <td>-0.075025</td>\n",
       "      <td>0.106239</td>\n",
       "      <td>0.119322</td>\n",
       "      <td>0.038588</td>\n",
       "      <td>0.046193</td>\n",
       "      <td>0.068356</td>\n",
       "      <td>-0.023344</td>\n",
       "      <td>-0.135662</td>\n",
       "      <td>-0.065480</td>\n",
       "      <td>-0.148583</td>\n",
       "      <td>-0.026178</td>\n",
       "      <td>-0.079190</td>\n",
       "      <td>1.000000</td>\n",
       "    </tr>\n",
       "  </tbody>\n",
       "</table>\n",
       "</div>"
      ],
      "text/plain": [
       "            feature_0  feature_1  feature_2  feature_3  feature_4  feature_5  \\\n",
       "feature_0    1.000000   0.096391  -0.011224  -0.007262   0.003125  -0.021076   \n",
       "feature_1    0.096391   1.000000   0.005365   0.017720  -0.013162   0.004524   \n",
       "feature_2   -0.011224   0.005365   1.000000  -0.031505   0.162574  -0.095046   \n",
       "feature_3   -0.007262   0.017720  -0.031505   1.000000  -0.084617   0.001482   \n",
       "feature_4    0.003125  -0.013162   0.162574  -0.084617   1.000000  -0.091533   \n",
       "feature_5   -0.021076   0.004524  -0.095046   0.001482  -0.091533   1.000000   \n",
       "feature_6    0.003105   0.021292  -0.055874   0.001489  -0.045145   0.547919   \n",
       "feature_7   -0.020858   0.018648   0.023044   0.000688   0.007676  -0.022786   \n",
       "feature_8   -0.406850  -0.000714  -0.006331   0.011788  -0.009894   0.017101   \n",
       "feature_9   -0.105244   0.065006   0.022440   0.003468   0.004970   0.003437   \n",
       "feature_10  -0.020580  -0.066072   0.012235  -0.010831   0.017115  -0.027930   \n",
       "feature_11  -0.182078  -0.070495  -0.027770   0.009210  -0.020753   0.122215   \n",
       "feature_12  -0.015597  -0.083485   0.007430  -0.009263   0.005064  -0.022871   \n",
       "feature_13   0.028699  -0.030686  -0.029314  -0.020733   0.024970  -0.243657   \n",
       "feature_14  -0.040374   0.015220  -0.005105   0.006277  -0.109652   0.031530   \n",
       "feature_15   0.006381  -0.021289   0.084358   0.009662   0.105265  -0.856851   \n",
       "labels       0.019405   0.048611  -0.033345   0.392971  -0.075025   0.106239   \n",
       "\n",
       "            feature_6  feature_7  feature_8  feature_9  feature_10  \\\n",
       "feature_0    0.003105  -0.020858  -0.406850  -0.105244   -0.020580   \n",
       "feature_1    0.021292   0.018648  -0.000714   0.065006   -0.066072   \n",
       "feature_2   -0.055874   0.023044  -0.006331   0.022440    0.012235   \n",
       "feature_3    0.001489   0.000688   0.011788   0.003468   -0.010831   \n",
       "feature_4   -0.045145   0.007676  -0.009894   0.004970    0.017115   \n",
       "feature_5    0.547919  -0.022786   0.017101   0.003437   -0.027930   \n",
       "feature_6    1.000000   0.001753   0.019752   0.021266   -0.018799   \n",
       "feature_7    0.001753   1.000000   0.058998   0.163618   -0.007553   \n",
       "feature_8    0.019752   0.058998   1.000000   0.108495   -0.005900   \n",
       "feature_9    0.021266   0.163618   0.108495   1.000000   -0.013744   \n",
       "feature_10  -0.018799  -0.007553  -0.005900  -0.013744    1.000000   \n",
       "feature_11   0.039526  -0.124799  -0.014665  -0.090923   -0.005174   \n",
       "feature_12  -0.010990  -0.034169  -0.046986  -0.046003    0.078315   \n",
       "feature_13  -0.176610  -0.080982  -0.035879  -0.112665    0.013976   \n",
       "feature_14   0.030134  -0.091335  -0.005906  -0.058534    0.013017   \n",
       "feature_15  -0.594264   0.009890  -0.015697  -0.022458    0.032717   \n",
       "labels       0.119322   0.038588   0.046193   0.068356   -0.023344   \n",
       "\n",
       "            feature_11  feature_12  feature_13  feature_14  feature_15  \\\n",
       "feature_0    -0.182078   -0.015597    0.028699   -0.040374    0.006381   \n",
       "feature_1    -0.070495   -0.083485   -0.030686    0.015220   -0.021289   \n",
       "feature_2    -0.027770    0.007430   -0.029314   -0.005105    0.084358   \n",
       "feature_3     0.009210   -0.009263   -0.020733    0.006277    0.009662   \n",
       "feature_4    -0.020753    0.005064    0.024970   -0.109652    0.105265   \n",
       "feature_5     0.122215   -0.022871   -0.243657    0.031530   -0.856851   \n",
       "feature_6     0.039526   -0.010990   -0.176610    0.030134   -0.594264   \n",
       "feature_7    -0.124799   -0.034169   -0.080982   -0.091335    0.009890   \n",
       "feature_8    -0.014665   -0.046986   -0.035879   -0.005906   -0.015697   \n",
       "feature_9    -0.090923   -0.046003   -0.112665   -0.058534   -0.022458   \n",
       "feature_10   -0.005174    0.078315    0.013976    0.013017    0.032717   \n",
       "feature_11    1.000000    0.042371    0.188053    0.267342   -0.099257   \n",
       "feature_12    0.042371    1.000000   -0.010203    0.025174    0.016092   \n",
       "feature_13    0.188053   -0.010203    1.000000    0.361038    0.270935   \n",
       "feature_14    0.267342    0.025174    0.361038    1.000000   -0.033727   \n",
       "feature_15   -0.099257    0.016092    0.270935   -0.033727    1.000000   \n",
       "labels       -0.135662   -0.065480   -0.148583   -0.026178   -0.079190   \n",
       "\n",
       "              labels  \n",
       "feature_0   0.019405  \n",
       "feature_1   0.048611  \n",
       "feature_2  -0.033345  \n",
       "feature_3   0.392971  \n",
       "feature_4  -0.075025  \n",
       "feature_5   0.106239  \n",
       "feature_6   0.119322  \n",
       "feature_7   0.038588  \n",
       "feature_8   0.046193  \n",
       "feature_9   0.068356  \n",
       "feature_10 -0.023344  \n",
       "feature_11 -0.135662  \n",
       "feature_12 -0.065480  \n",
       "feature_13 -0.148583  \n",
       "feature_14 -0.026178  \n",
       "feature_15 -0.079190  \n",
       "labels      1.000000  "
      ]
     },
     "execution_count": 10,
     "metadata": {},
     "output_type": "execute_result"
    }
   ],
   "source": [
    "#correlation matrix\n",
    "df.corr(method=\"pearson\")"
   ]
  },
  {
   "cell_type": "code",
   "execution_count": 11,
   "metadata": {},
   "outputs": [
    {
     "data": {
      "text/plain": [
       "'from sklearn.feature_selection import SelectKBest\\nfrom sklearn.feature_selection import chi2\\n#data = pd.read_csv(\"D://Blogs//train.csv\")\\n\\nX = df.iloc[:,0:15]  #independent columns\\ny = df.iloc[:,-1]    #target column i.e price range\\n\\n#apply SelectKBest class to extract top 10 best features\\nbestfeatures = SelectKBest(score_func=chi2, k=10)\\nfit = bestfeatures.fit(X,y)\\ndfscores = pd.DataFrame(fit.scores_)\\ndfcolumns = pd.DataFrame(X.columns)\\n#concat two dataframes for better visualization \\nfeatureScores = pd.concat([dfcolumns,dfscores],axis=1)\\nfeatureScores.columns = [\\'Specs\\',\\'Score\\']  #naming the dataframe columns\\nprint(featureScores.nlargest(10,\\'Score\\'))  #print 10 best features'"
      ]
     },
     "execution_count": 11,
     "metadata": {},
     "output_type": "execute_result"
    }
   ],
   "source": [
    "'''from sklearn.feature_selection import SelectKBest\n",
    "from sklearn.feature_selection import chi2\n",
    "#data = pd.read_csv(\"D://Blogs//train.csv\")\n",
    "\n",
    "X = df.iloc[:,0:15]  #independent columns\n",
    "y = df.iloc[:,-1]    #target column i.e price range\n",
    "\n",
    "#apply SelectKBest class to extract top 10 best features\n",
    "bestfeatures = SelectKBest(score_func=chi2, k=10)\n",
    "fit = bestfeatures.fit(X,y)\n",
    "dfscores = pd.DataFrame(fit.scores_)\n",
    "dfcolumns = pd.DataFrame(X.columns)\n",
    "#concat two dataframes for better visualization \n",
    "featureScores = pd.concat([dfcolumns,dfscores],axis=1)\n",
    "featureScores.columns = ['Specs','Score']  #naming the dataframe columns\n",
    "print(featureScores.nlargest(10,'Score'))  #print 10 best features'''"
   ]
  },
  {
   "cell_type": "code",
   "execution_count": 12,
   "metadata": {},
   "outputs": [
    {
     "name": "stdout",
     "output_type": "stream",
     "text": [
      "[0.10341243 0.09816432 0.09923085 0.25279299 0.06142674 0.05839783\n",
      " 0.040889   0.06101976 0.02646421 0.03515592 0.00268033 0.02320085\n",
      " 0.00973775 0.02661401 0.10081301]\n"
     ]
    },
    {
     "data": {
      "image/png": "[encoded data removed]",
      "text/plain": [
       "<Figure size 1440x720 with 1 Axes>"
      ]
     },
     "metadata": {
      "needs_background": "light"
     },
     "output_type": "display_data"
    }
   ],
   "source": [
    "import pandas as pd\n",
    "import numpy as np\n",
    "#data = pd.read_csv(\"D://Blogs//train.csv\")\n",
    "X = df.iloc[:,0:15]  #independent columns\n",
    "y = df.iloc[:,-1]    #target column i.e price range\n",
    "\n",
    "from sklearn.ensemble import ExtraTreesClassifier\n",
    "import matplotlib.pyplot as plt\n",
    "\n",
    "model = ExtraTreesClassifier()\n",
    "model.fit(X,y)\n",
    "print(model.feature_importances_)\n",
    "#use inbuilt class feature_importances of tree based classifiers\n",
    "#plot graph of feature importances for better visualization\n",
    "feat_importances = pd.Series(model.feature_importances_, index=X.columns)\n",
    "feat_importances.nlargest(16).plot(kind='barh')\n",
    "plt.show()\n",
    "\n"
   ]
  },
  {
   "cell_type": "code",
   "execution_count": 13,
   "metadata": {},
   "outputs": [
    {
     "data": {
      "image/png": "[encoded data removed]",
      "text/plain": [
       "<Figure size 1440x1440 with 2 Axes>"
      ]
     },
     "metadata": {
      "needs_background": "light"
     },
     "output_type": "display_data"
    }
   ],
   "source": [
    "import pandas as pd\n",
    "import numpy as np\n",
    "import seaborn as sns\n",
    "\n",
    "#data = pd.read_csv(\"D://Blogs//train.csv\")\n",
    "\n",
    "X = df.iloc[:,0:16]  #independent columns\n",
    "y = df.iloc[:,-1]    #target column i.e price range\n",
    "#get correlations of each features in dataset\n",
    "\n",
    "corrmat = df.corr()\n",
    "top_corr_features = corrmat.index\n",
    "plt.figure(figsize=(20,20))\n",
    "\n",
    "#plot heat map\n",
    "g=sns.heatmap(df[top_corr_features].corr(),annot=True,cmap=\"RdYlGn\")"
   ]
  },
  {
   "cell_type": "code",
   "execution_count": 14,
   "metadata": {},
   "outputs": [],
   "source": [
    "#!pip install lightgbm\n",
    "\n",
    "#import lightgbm"
   ]
  },
  {
   "cell_type": "code",
   "execution_count": 15,
   "metadata": {},
   "outputs": [
    {
     "data": {
      "text/html": [
       "<div>\n",
       "<style scoped>\n",
       "    .dataframe tbody tr th:only-of-type {\n",
       "        vertical-align: middle;\n",
       "    }\n",
       "\n",
       "    .dataframe tbody tr th {\n",
       "        vertical-align: top;\n",
       "    }\n",
       "\n",
       "    .dataframe thead th {\n",
       "        text-align: right;\n",
       "    }\n",
       "</style>\n",
       "<table border=\"1\" class=\"dataframe\">\n",
       "  <thead>\n",
       "    <tr style=\"text-align: right;\">\n",
       "      <th></th>\n",
       "      <th>feature_0</th>\n",
       "      <th>feature_1</th>\n",
       "      <th>feature_2</th>\n",
       "      <th>feature_3</th>\n",
       "      <th>feature_4</th>\n",
       "      <th>feature_5</th>\n",
       "      <th>feature_6</th>\n",
       "      <th>feature_7</th>\n",
       "      <th>feature_8</th>\n",
       "      <th>feature_9</th>\n",
       "      <th>feature_10</th>\n",
       "      <th>feature_11</th>\n",
       "      <th>feature_12</th>\n",
       "      <th>feature_13</th>\n",
       "      <th>feature_14</th>\n",
       "      <th>feature_15</th>\n",
       "      <th>labels</th>\n",
       "    </tr>\n",
       "  </thead>\n",
       "  <tbody>\n",
       "    <tr>\n",
       "      <th>0</th>\n",
       "      <td>-0.276515</td>\n",
       "      <td>-0.424429</td>\n",
       "      <td>1.344997</td>\n",
       "      <td>-0.012283</td>\n",
       "      <td>0.076230</td>\n",
       "      <td>1.076648</td>\n",
       "      <td>0.182198</td>\n",
       "      <td>3</td>\n",
       "      <td>0</td>\n",
       "      <td>1</td>\n",
       "      <td>0</td>\n",
       "      <td>0</td>\n",
       "      <td>0</td>\n",
       "      <td>0</td>\n",
       "      <td>10</td>\n",
       "      <td>2</td>\n",
       "      <td>1</td>\n",
       "    </tr>\n",
       "    <tr>\n",
       "      <th>1</th>\n",
       "      <td>0.853573</td>\n",
       "      <td>0.150991</td>\n",
       "      <td>0.503892</td>\n",
       "      <td>-0.979179</td>\n",
       "      <td>-0.569351</td>\n",
       "      <td>-0.411453</td>\n",
       "      <td>-0.251940</td>\n",
       "      <td>4</td>\n",
       "      <td>1</td>\n",
       "      <td>2</td>\n",
       "      <td>0</td>\n",
       "      <td>1</td>\n",
       "      <td>0</td>\n",
       "      <td>0</td>\n",
       "      <td>0</td>\n",
       "      <td>3</td>\n",
       "      <td>0</td>\n",
       "    </tr>\n",
       "    <tr>\n",
       "      <th>2</th>\n",
       "      <td>0.947747</td>\n",
       "      <td>-0.173832</td>\n",
       "      <td>1.825628</td>\n",
       "      <td>-0.703478</td>\n",
       "      <td>0.076230</td>\n",
       "      <td>-0.411453</td>\n",
       "      <td>-0.251940</td>\n",
       "      <td>6</td>\n",
       "      <td>1</td>\n",
       "      <td>2</td>\n",
       "      <td>0</td>\n",
       "      <td>0</td>\n",
       "      <td>0</td>\n",
       "      <td>0</td>\n",
       "      <td>5</td>\n",
       "      <td>3</td>\n",
       "      <td>0</td>\n",
       "    </tr>\n",
       "    <tr>\n",
       "      <th>3</th>\n",
       "      <td>0.853573</td>\n",
       "      <td>-0.381404</td>\n",
       "      <td>0.984523</td>\n",
       "      <td>-0.039464</td>\n",
       "      <td>-0.569351</td>\n",
       "      <td>-0.411453</td>\n",
       "      <td>-0.251940</td>\n",
       "      <td>4</td>\n",
       "      <td>0</td>\n",
       "      <td>2</td>\n",
       "      <td>0</td>\n",
       "      <td>1</td>\n",
       "      <td>0</td>\n",
       "      <td>0</td>\n",
       "      <td>5</td>\n",
       "      <td>3</td>\n",
       "      <td>0</td>\n",
       "    </tr>\n",
       "    <tr>\n",
       "      <th>4</th>\n",
       "      <td>1.324443</td>\n",
       "      <td>1.590527</td>\n",
       "      <td>-1.178318</td>\n",
       "      <td>-0.097711</td>\n",
       "      <td>-0.246560</td>\n",
       "      <td>-0.411453</td>\n",
       "      <td>-0.251940</td>\n",
       "      <td>0</td>\n",
       "      <td>1</td>\n",
       "      <td>1</td>\n",
       "      <td>0</td>\n",
       "      <td>0</td>\n",
       "      <td>0</td>\n",
       "      <td>0</td>\n",
       "      <td>8</td>\n",
       "      <td>3</td>\n",
       "      <td>0</td>\n",
       "    </tr>\n",
       "  </tbody>\n",
       "</table>\n",
       "</div>"
      ],
      "text/plain": [
       "   feature_0  feature_1  feature_2  feature_3  feature_4  feature_5  \\\n",
       "0  -0.276515  -0.424429   1.344997  -0.012283   0.076230   1.076648   \n",
       "1   0.853573   0.150991   0.503892  -0.979179  -0.569351  -0.411453   \n",
       "2   0.947747  -0.173832   1.825628  -0.703478   0.076230  -0.411453   \n",
       "3   0.853573  -0.381404   0.984523  -0.039464  -0.569351  -0.411453   \n",
       "4   1.324443   1.590527  -1.178318  -0.097711  -0.246560  -0.411453   \n",
       "\n",
       "   feature_6  feature_7  feature_8  feature_9  feature_10  feature_11  \\\n",
       "0   0.182198          3          0          1           0           0   \n",
       "1  -0.251940          4          1          2           0           1   \n",
       "2  -0.251940          6          1          2           0           0   \n",
       "3  -0.251940          4          0          2           0           1   \n",
       "4  -0.251940          0          1          1           0           0   \n",
       "\n",
       "   feature_12  feature_13  feature_14  feature_15  labels  \n",
       "0           0           0          10           2       1  \n",
       "1           0           0           0           3       0  \n",
       "2           0           0           5           3       0  \n",
       "3           0           0           5           3       0  \n",
       "4           0           0           8           3       0  "
      ]
     },
     "execution_count": 15,
     "metadata": {},
     "output_type": "execute_result"
    }
   ],
   "source": [
    "#importing libraries\n",
    "from sklearn.datasets import load_boston\n",
    "import pandas as pd\n",
    "import numpy as np\n",
    "import matplotlib\n",
    "import matplotlib.pyplot as plt\n",
    "import seaborn as sns\n",
    "import statsmodels.api as sm\n",
    "%matplotlib inline\n",
    "from sklearn.model_selection import train_test_split\n",
    "from sklearn.linear_model import LinearRegression\n",
    "from sklearn.feature_selection import RFE\n",
    "from sklearn.linear_model import RidgeCV, LassoCV, Ridge, Lasso#Loading the dataset\n",
    "\n",
    "x = df\n",
    "\n",
    "df = pd.DataFrame(df, columns = df.columns)\n",
    "df[\"labels\"] = x.labels\n",
    "X = df.drop(\"labels\",1)   #Feature Matrix\n",
    "y = df[\"labels\"]          #Target Variable\n",
    "df.head()"
   ]
  },
  {
   "cell_type": "code",
   "execution_count": 16,
   "metadata": {},
   "outputs": [
    {
     "data": {
      "text/plain": [
       "feature_0     0.019405\n",
       "feature_1     0.048611\n",
       "feature_2     0.033345\n",
       "feature_3     0.392971\n",
       "feature_4     0.075025\n",
       "feature_5     0.106239\n",
       "feature_6     0.119322\n",
       "feature_7     0.038588\n",
       "feature_8     0.046193\n",
       "feature_9     0.068356\n",
       "feature_10    0.023344\n",
       "feature_11    0.135662\n",
       "feature_12    0.065480\n",
       "feature_13    0.148583\n",
       "feature_14    0.026178\n",
       "feature_15    0.079190\n",
       "labels        1.000000\n",
       "Name: labels, dtype: float64"
      ]
     },
     "execution_count": 16,
     "metadata": {},
     "output_type": "execute_result"
    }
   ],
   "source": [
    "#Correlation with output variable\n",
    "cor = df.corr()\n",
    "cor_target = abs(cor[\"labels\"])#Selecting highly correlated features\n",
    "relevant_features = cor_target[cor_target>0]\n",
    "relevant_features"
   ]
  },
  {
   "cell_type": "code",
   "execution_count": 17,
   "metadata": {},
   "outputs": [
    {
     "name": "stdout",
     "output_type": "stream",
     "text": [
      "Best alpha using built-in LassoCV: 0.000127\n",
      "Best score using built-in LassoCV: 0.212259\n"
     ]
    }
   ],
   "source": [
    "reg = LassoCV()\n",
    "reg.fit(X, y)\n",
    "print(\"Best alpha using built-in LassoCV: %f\" % reg.alpha_)\n",
    "print(\"Best score using built-in LassoCV: %f\" %reg.score(X,y))\n",
    "coef = pd.Series(reg.coef_, index = X.columns)"
   ]
  },
  {
   "cell_type": "code",
   "execution_count": 18,
   "metadata": {},
   "outputs": [
    {
     "name": "stdout",
     "output_type": "stream",
     "text": [
      "Lasso picked 16 variables and eliminated the other 0 variables\n"
     ]
    }
   ],
   "source": [
    "print(\"Lasso picked \" + str(sum(coef != 0)) + \" variables and eliminated the other \" +  str(sum(coef == 0)) + \" variables\")"
   ]
  },
  {
   "cell_type": "code",
   "execution_count": 19,
   "metadata": {},
   "outputs": [
    {
     "data": {
      "text/plain": [
       "Text(0.5, 1.0, 'Feature importance using Lasso Model')"
      ]
     },
     "execution_count": 19,
     "metadata": {},
     "output_type": "execute_result"
    },
    {
     "data": {
      "image/png": "[encoded data removed]",
      "text/plain": [
       "<Figure size 576x720 with 1 Axes>"
      ]
     },
     "metadata": {
      "needs_background": "light"
     },
     "output_type": "display_data"
    }
   ],
   "source": [
    "imp_coef = coef.sort_values()\n",
    "import matplotlib\n",
    "matplotlib.rcParams['figure.figsize'] = (8.0, 10.0)\n",
    "imp_coef.plot(kind = \"barh\")\n",
    "plt.title(\"Feature importance using Lasso Model\")"
   ]
  },
  {
   "cell_type": "code",
   "execution_count": 20,
   "metadata": {},
   "outputs": [],
   "source": [
    "df1 = df[['feature_3','feature_5','feature_6','feature_15','feature_8','feature_9','feature_0','feature_1','feature_14','labels']]"
   ]
  },
  {
   "cell_type": "code",
   "execution_count": 21,
   "metadata": {},
   "outputs": [
    {
     "data": {
      "text/html": [
       "<div>\n",
       "<style scoped>\n",
       "    .dataframe tbody tr th:only-of-type {\n",
       "        vertical-align: middle;\n",
       "    }\n",
       "\n",
       "    .dataframe tbody tr th {\n",
       "        vertical-align: top;\n",
       "    }\n",
       "\n",
       "    .dataframe thead th {\n",
       "        text-align: right;\n",
       "    }\n",
       "</style>\n",
       "<table border=\"1\" class=\"dataframe\">\n",
       "  <thead>\n",
       "    <tr style=\"text-align: right;\">\n",
       "      <th></th>\n",
       "      <th>feature_3</th>\n",
       "      <th>feature_5</th>\n",
       "      <th>feature_6</th>\n",
       "      <th>feature_15</th>\n",
       "      <th>feature_8</th>\n",
       "      <th>feature_9</th>\n",
       "      <th>feature_0</th>\n",
       "      <th>feature_1</th>\n",
       "      <th>feature_14</th>\n",
       "      <th>labels</th>\n",
       "    </tr>\n",
       "  </thead>\n",
       "  <tbody>\n",
       "    <tr>\n",
       "      <th>0</th>\n",
       "      <td>-0.012283</td>\n",
       "      <td>1.076648</td>\n",
       "      <td>0.182198</td>\n",
       "      <td>2</td>\n",
       "      <td>0</td>\n",
       "      <td>1</td>\n",
       "      <td>-0.276515</td>\n",
       "      <td>-0.424429</td>\n",
       "      <td>10</td>\n",
       "      <td>1</td>\n",
       "    </tr>\n",
       "    <tr>\n",
       "      <th>1</th>\n",
       "      <td>-0.979179</td>\n",
       "      <td>-0.411453</td>\n",
       "      <td>-0.251940</td>\n",
       "      <td>3</td>\n",
       "      <td>1</td>\n",
       "      <td>2</td>\n",
       "      <td>0.853573</td>\n",
       "      <td>0.150991</td>\n",
       "      <td>0</td>\n",
       "      <td>0</td>\n",
       "    </tr>\n",
       "    <tr>\n",
       "      <th>2</th>\n",
       "      <td>-0.703478</td>\n",
       "      <td>-0.411453</td>\n",
       "      <td>-0.251940</td>\n",
       "      <td>3</td>\n",
       "      <td>1</td>\n",
       "      <td>2</td>\n",
       "      <td>0.947747</td>\n",
       "      <td>-0.173832</td>\n",
       "      <td>5</td>\n",
       "      <td>0</td>\n",
       "    </tr>\n",
       "    <tr>\n",
       "      <th>3</th>\n",
       "      <td>-0.039464</td>\n",
       "      <td>-0.411453</td>\n",
       "      <td>-0.251940</td>\n",
       "      <td>3</td>\n",
       "      <td>0</td>\n",
       "      <td>2</td>\n",
       "      <td>0.853573</td>\n",
       "      <td>-0.381404</td>\n",
       "      <td>5</td>\n",
       "      <td>0</td>\n",
       "    </tr>\n",
       "    <tr>\n",
       "      <th>4</th>\n",
       "      <td>-0.097711</td>\n",
       "      <td>-0.411453</td>\n",
       "      <td>-0.251940</td>\n",
       "      <td>3</td>\n",
       "      <td>1</td>\n",
       "      <td>1</td>\n",
       "      <td>1.324443</td>\n",
       "      <td>1.590527</td>\n",
       "      <td>8</td>\n",
       "      <td>0</td>\n",
       "    </tr>\n",
       "  </tbody>\n",
       "</table>\n",
       "</div>"
      ],
      "text/plain": [
       "   feature_3  feature_5  feature_6  feature_15  feature_8  feature_9  \\\n",
       "0  -0.012283   1.076648   0.182198           2          0          1   \n",
       "1  -0.979179  -0.411453  -0.251940           3          1          2   \n",
       "2  -0.703478  -0.411453  -0.251940           3          1          2   \n",
       "3  -0.039464  -0.411453  -0.251940           3          0          2   \n",
       "4  -0.097711  -0.411453  -0.251940           3          1          1   \n",
       "\n",
       "   feature_0  feature_1  feature_14  labels  \n",
       "0  -0.276515  -0.424429          10       1  \n",
       "1   0.853573   0.150991           0       0  \n",
       "2   0.947747  -0.173832           5       0  \n",
       "3   0.853573  -0.381404           5       0  \n",
       "4   1.324443   1.590527           8       0  "
      ]
     },
     "execution_count": 21,
     "metadata": {},
     "output_type": "execute_result"
    }
   ],
   "source": [
    "df1.head()"
   ]
  },
  {
   "cell_type": "markdown",
   "metadata": {},
   "source": [
    "#### Logistic regression"
   ]
  },
  {
   "cell_type": "code",
   "execution_count": 22,
   "metadata": {},
   "outputs": [],
   "source": [
    "from sklearn.model_selection import train_test_split\n",
    "#X = train.drop('Loan_Status', axis=1)\n",
    "X = df1.iloc[:,0:9].values# Separating out the target\n",
    "y = df1.iloc[:,-1].values\n",
    "X_train, X_test, y_train, y_test = train_test_split(X, y, test_size=0.2)"
   ]
  },
  {
   "cell_type": "code",
   "execution_count": 23,
   "metadata": {},
   "outputs": [],
   "source": [
    "from sklearn.linear_model import LogisticRegression\n",
    "lr = LogisticRegression(solver = 'lbfgs')"
   ]
  },
  {
   "cell_type": "code",
   "execution_count": 24,
   "metadata": {},
   "outputs": [
    {
     "name": "stdout",
     "output_type": "stream",
     "text": [
      "model score: 0.891\n"
     ]
    }
   ],
   "source": [
    "lr.fit(X_train, y_train)\n",
    "print(\"model score: %.3f\" % lr.score(X_test, y_test))"
   ]
  },
  {
   "cell_type": "code",
   "execution_count": 25,
   "metadata": {},
   "outputs": [],
   "source": [
    "test = pd.read_csv('Test.csv')\n",
    "test = test[['feature_3','feature_5','feature_6','feature_15','feature_8','feature_9','feature_0','feature_1','feature_14']]\n",
    "test_pred = lr.predict(test)"
   ]
  },
  {
   "cell_type": "code",
   "execution_count": 26,
   "metadata": {},
   "outputs": [
    {
     "data": {
      "text/plain": [
       "0.8910350928929519"
      ]
     },
     "execution_count": 26,
     "metadata": {},
     "output_type": "execute_result"
    }
   ],
   "source": [
    "lr.score(X_test, y_test)"
   ]
  },
  {
   "cell_type": "markdown",
   "metadata": {},
   "source": [
    "#### K Neighbor Classifier"
   ]
  },
  {
   "cell_type": "code",
   "execution_count": 27,
   "metadata": {},
   "outputs": [],
   "source": [
    "from sklearn.datasets import load_iris\n",
    "from sklearn.model_selection import train_test_split\n",
    "from sklearn.neighbors import KNeighborsClassifier\n",
    "from sklearn import metrics"
   ]
  },
  {
   "cell_type": "code",
   "execution_count": 28,
   "metadata": {},
   "outputs": [
    {
     "data": {
      "text/plain": [
       "0.8945381620856435"
      ]
     },
     "execution_count": 28,
     "metadata": {},
     "output_type": "execute_result"
    }
   ],
   "source": [
    "X = df1.iloc[:,0:9].values# Separating out the target\n",
    "y = df1.iloc[:,-1].values\n",
    "\n",
    "X_train, X_test, y_train, y_test = train_test_split(X, y, random_state=6)\n",
    "\n",
    "# check classification accuracy of KNN with K=5\n",
    "knn = KNeighborsClassifier(n_neighbors=5)\n",
    "knn.fit(X_train, y_train)\n",
    "y_pred = knn.predict(X_test)\n",
    "metrics.accuracy_score(y_test, y_pred)"
   ]
  },
  {
   "cell_type": "markdown",
   "metadata": {},
   "source": [
    "#### Decision Tree Classifier"
   ]
  },
  {
   "cell_type": "code",
   "execution_count": 37,
   "metadata": {},
   "outputs": [],
   "source": [
    "import matplotlib.pyplot as plt\n",
    "from sklearn.tree import DecisionTreeClassifier\n",
    "#from sklearn.ensemble import RandomForestClassifier\n",
    "from sklearn.model_selection import train_test_split\n",
    "import pandas as pd\n",
    "import numpy as np\n",
    "from sklearn import tree\n",
    "from sklearn import metrics"
   ]
  },
  {
   "cell_type": "code",
   "execution_count": 38,
   "metadata": {},
   "outputs": [],
   "source": [
    "clf = tree.DecisionTreeClassifier()\n",
    "#clf = clf.fit(X, y)"
   ]
  },
  {
   "cell_type": "code",
   "execution_count": 39,
   "metadata": {},
   "outputs": [],
   "source": [
    "data = df1[['feature_3','feature_5','feature_6','feature_15','feature_8','feature_9','feature_0','feature_1','feature_14']]"
   ]
  },
  {
   "cell_type": "code",
   "execution_count": 40,
   "metadata": {},
   "outputs": [],
   "source": [
    "X = df1.iloc[:,0:9].values# Separating out the target\n",
    "y = df1.iloc[:,-1].values"
   ]
  },
  {
   "cell_type": "code",
   "execution_count": 44,
   "metadata": {},
   "outputs": [],
   "source": [
    "X_train, X_test, Y_train, Y_test = train_test_split(X, y, test_size=0.3, random_state=1)"
   ]
  },
  {
   "cell_type": "code",
   "execution_count": 52,
   "metadata": {},
   "outputs": [],
   "source": [
    "# Create Decision Tree classifer object\n",
    "clf = DecisionTreeClassifier(criterion='entropy', max_depth=3)\n",
    "\n",
    "# Train Decision Tree Classifer\n",
    "clf = clf.fit(X_train,Y_train)\n",
    "\n",
    "#Predict the response for test dataset\n",
    "y_pred = clf.predict(X_test)"
   ]
  },
  {
   "cell_type": "code",
   "execution_count": 53,
   "metadata": {},
   "outputs": [
    {
     "name": "stdout",
     "output_type": "stream",
     "text": [
      "Accuracy: 0.8952128182443724\n"
     ]
    }
   ],
   "source": [
    "print(\"Accuracy:\",metrics.accuracy_score(Y_test, y_pred))"
   ]
  },
  {
   "cell_type": "markdown",
   "metadata": {},
   "source": [
    "### Visualize Decision Tree"
   ]
  },
  {
   "cell_type": "code",
   "execution_count": 54,
   "metadata": {},
   "outputs": [
    {
     "data": {
      "image/png": "[encoded data removed]",
      "text/plain": [
       "<Figure size 576x720 with 1 Axes>"
      ]
     },
     "metadata": {
      "needs_background": "light"
     },
     "output_type": "display_data"
    }
   ],
   "source": [
    "tree.plot_tree(clf);"
   ]
  },
  {
   "cell_type": "code",
   "execution_count": 55,
   "metadata": {},
   "outputs": [
    {
     "data": {
      "image/png": "[encoded data removed]",
      "text/plain": [
       "<Figure size 1200x1200 with 1 Axes>"
      ]
     },
     "metadata": {
      "needs_background": "light"
     },
     "output_type": "display_data"
    }
   ],
   "source": [
    "fn=['feature_3','feature_5','feature_6','feature_15','feature_8','feature_9','feature_0','feature_1','feature_14']\n",
    "cn=['1', '0']\n",
    "fig, axes = plt.subplots(nrows = 1,ncols = 1,figsize = (4,4), dpi=300)\n",
    "tree.plot_tree(clf,\n",
    "               feature_names = fn, \n",
    "               class_names=cn,\n",
    "               filled = True);"
   ]
  },
  {
   "cell_type": "code",
   "execution_count": 58,
   "metadata": {},
   "outputs": [],
   "source": [
    "#submission_df_1 = pd.DataFrame({\n",
    "#                 \"labels\": test_pred})"
   ]
  },
  {
   "cell_type": "code",
   "execution_count": 59,
   "metadata": {},
   "outputs": [],
   "source": [
    "#submission_df_1.to_excel(\"submission2.xlsx\", index = False)"
   ]
  },
  {
   "cell_type": "markdown",
   "metadata": {},
   "source": [
    "## Random Forest Classifier"
   ]
  },
  {
   "cell_type": "code",
   "execution_count": 60,
   "metadata": {},
   "outputs": [],
   "source": [
    "from sklearn.ensemble import RandomForestClassifier\n",
    "from sklearn.datasets import make_classification"
   ]
  },
  {
   "cell_type": "code",
   "execution_count": 61,
   "metadata": {},
   "outputs": [],
   "source": [
    "data = df1[['feature_3','feature_5','feature_6','feature_15','feature_8','feature_9','feature_0','feature_1','feature_14']]"
   ]
  },
  {
   "cell_type": "code",
   "execution_count": 62,
   "metadata": {},
   "outputs": [],
   "source": [
    "X = df1.iloc[:,0:9].values# Separating out the target\n",
    "y = df1.iloc[:,-1].values"
   ]
  },
  {
   "cell_type": "code",
   "execution_count": 63,
   "metadata": {},
   "outputs": [],
   "source": [
    "X_train, X_test, Y_train, Y_test = train_test_split(X, y, test_size=0.25, random_state=42)"
   ]
  },
  {
   "cell_type": "code",
   "execution_count": 69,
   "metadata": {},
   "outputs": [
    {
     "data": {
      "text/plain": [
       "RandomForestClassifier(bootstrap=True, ccp_alpha=0.0, class_weight=None,\n",
       "                       criterion='gini', max_depth=3, max_features='auto',\n",
       "                       max_leaf_nodes=None, max_samples=None,\n",
       "                       min_impurity_decrease=0.0, min_impurity_split=None,\n",
       "                       min_samples_leaf=1, min_samples_split=2,\n",
       "                       min_weight_fraction_leaf=0.0, n_estimators=100,\n",
       "                       n_jobs=None, oob_score=False, random_state=0, verbose=0,\n",
       "                       warm_start=False)"
      ]
     },
     "execution_count": 69,
     "metadata": {},
     "output_type": "execute_result"
    }
   ],
   "source": [
    "clf = RandomForestClassifier(n_estimators=100, max_depth=3, random_state=0)\n",
    "clf.fit(X, y)"
   ]
  },
  {
   "cell_type": "code",
   "execution_count": 72,
   "metadata": {},
   "outputs": [
    {
     "name": "stdout",
     "output_type": "stream",
     "text": [
      "[0.47700402 0.10073883 0.04774731 0.22331268 0.00424681 0.0019768\n",
      " 0.05540986 0.00408699 0.08547671]\n"
     ]
    }
   ],
   "source": [
    "print(clf.feature_importances_)\n",
    "\n",
    "y_pred = clf.predict(X_test)"
   ]
  },
  {
   "cell_type": "code",
   "execution_count": 73,
   "metadata": {},
   "outputs": [
    {
     "data": {
      "text/plain": [
       "0.8888167983956589"
      ]
     },
     "execution_count": 73,
     "metadata": {},
     "output_type": "execute_result"
    }
   ],
   "source": [
    "clf.score(X, y, sample_weight=None)"
   ]
  },
  {
   "cell_type": "code",
   "execution_count": 74,
   "metadata": {},
   "outputs": [
    {
     "data": {
      "text/plain": [
       "0.8900554441429751"
      ]
     },
     "execution_count": 74,
     "metadata": {},
     "output_type": "execute_result"
    }
   ],
   "source": [
    "metrics.accuracy_score(Y_test, y_pred)"
   ]
  },
  {
   "cell_type": "markdown",
   "metadata": {},
   "source": [
    "### Gradient Boosting Classifier"
   ]
  },
  {
   "cell_type": "code",
   "execution_count": 75,
   "metadata": {},
   "outputs": [],
   "source": [
    "import pandas as pd\n",
    "from sklearn.preprocessing import MinMaxScaler\n",
    "from sklearn.model_selection import train_test_split\n",
    "from sklearn.metrics import classification_report, confusion_matrix\n",
    "from sklearn.ensemble import GradientBoostingClassifier"
   ]
  },
  {
   "cell_type": "code",
   "execution_count": 76,
   "metadata": {},
   "outputs": [],
   "source": [
    "data = df1[['feature_3','feature_5','feature_6','feature_15','feature_8','feature_9','feature_0','feature_1','feature_14']]"
   ]
  },
  {
   "cell_type": "code",
   "execution_count": 77,
   "metadata": {},
   "outputs": [],
   "source": [
    "X = df1.iloc[:,0:9].values# Separating out the target\n",
    "y = df1.iloc[:,-1].values"
   ]
  },
  {
   "cell_type": "code",
   "execution_count": 78,
   "metadata": {},
   "outputs": [],
   "source": [
    "X_train, X_val, y_train, y_val = train_test_split(X_train, y_train, test_size=0.3, random_state=12)"
   ]
  },
  {
   "cell_type": "code",
   "execution_count": 79,
   "metadata": {},
   "outputs": [
    {
     "name": "stdout",
     "output_type": "stream",
     "text": [
      "Learning rate:  0.05\n",
      "Accuracy score (training): 0.881\n",
      "Accuracy score (validation): 0.888\n",
      "Learning rate:  0.075\n",
      "Accuracy score (training): 0.881\n",
      "Accuracy score (validation): 0.888\n",
      "Learning rate:  0.1\n",
      "Accuracy score (training): 0.881\n",
      "Accuracy score (validation): 0.888\n",
      "Learning rate:  0.25\n",
      "Accuracy score (training): 0.881\n",
      "Accuracy score (validation): 0.888\n",
      "Learning rate:  0.5\n",
      "Accuracy score (training): 0.882\n",
      "Accuracy score (validation): 0.887\n",
      "Learning rate:  0.75\n",
      "Accuracy score (training): 0.882\n",
      "Accuracy score (validation): 0.886\n",
      "Learning rate:  1\n",
      "Accuracy score (training): 0.882\n",
      "Accuracy score (validation): 0.888\n"
     ]
    }
   ],
   "source": [
    "lr_list = [0.05, 0.075, 0.1, 0.25, 0.5, 0.75, 1]\n",
    "\n",
    "for learning_rate in lr_list:\n",
    "    gb_clf = GradientBoostingClassifier(n_estimators=20, learning_rate=learning_rate, max_features=2, max_depth=2, random_state=0)\n",
    "    gb_clf.fit(X_train, y_train)\n",
    "\n",
    "    print(\"Learning rate: \", learning_rate)\n",
    "    print(\"Accuracy score (training): {0:.3f}\".format(gb_clf.score(X_train, y_train)))\n",
    "    print(\"Accuracy score (validation): {0:.3f}\".format(gb_clf.score(X_val, y_val)))"
   ]
  },
  {
   "cell_type": "code",
   "execution_count": 80,
   "metadata": {
    "scrolled": true
   },
   "outputs": [
    {
     "name": "stdout",
     "output_type": "stream",
     "text": [
      "Confusion Matrix:\n",
      "[[6770    7]\n",
      " [ 853    0]]\n",
      "Classification Report\n",
      "              precision    recall  f1-score   support\n",
      "\n",
      "           0       0.89      1.00      0.94      6777\n",
      "           1       0.00      0.00      0.00       853\n",
      "\n",
      "    accuracy                           0.89      7630\n",
      "   macro avg       0.44      0.50      0.47      7630\n",
      "weighted avg       0.79      0.89      0.84      7630\n",
      "\n"
     ]
    }
   ],
   "source": [
    "gb_clf2 = GradientBoostingClassifier(n_estimators=20, learning_rate=0.5, max_features=2, max_depth=2, random_state=0)\n",
    "gb_clf2.fit(X_train, y_train)\n",
    "predictions = gb_clf2.predict(X_val)\n",
    "\n",
    "print(\"Confusion Matrix:\")\n",
    "print(confusion_matrix(y_val, predictions))\n",
    "\n",
    "print(\"Classification Report\")\n",
    "print(classification_report(y_val, predictions))"
   ]
  },
  {
   "cell_type": "markdown",
   "metadata": {},
   "source": [
    "### Ada Boosting Classifier"
   ]
  },
  {
   "cell_type": "code",
   "execution_count": 111,
   "metadata": {},
   "outputs": [],
   "source": [
    "from sklearn.ensemble import AdaBoostClassifier, RandomForestClassifier, ExtraTreesClassifier\n",
    "from sklearn.model_selection import train_test_split, KFold, cross_val_score"
   ]
  },
  {
   "cell_type": "code",
   "execution_count": 112,
   "metadata": {},
   "outputs": [
    {
     "name": "stderr",
     "output_type": "stream",
     "text": [
      "C:\\Users\\Parth Shah\\anaconda3\\lib\\site-packages\\sklearn\\model_selection\\_split.py:296: FutureWarning: Setting a random_state has no effect since shuffle is False. This will raise an error in 0.24. You should leave random_state to its default (None), or set shuffle=True.\n",
      "  FutureWarning\n"
     ]
    },
    {
     "name": "stdout",
     "output_type": "stream",
     "text": [
      "Results for 20 estimators:\n",
      "0.8815639892511495\n",
      "Results for 40 estimators:\n",
      "0.8815639892511495\n",
      "Results for 60 estimators:\n",
      "0.8814493103520669\n",
      "Results for 80 estimators:\n",
      "0.8807612369575712\n",
      "Results for 100 estimators:\n",
      "0.8806465580584888\n"
     ]
    }
   ],
   "source": [
    "k_folds = KFold(n_splits=20, random_state=12)\n",
    "\n",
    "num_estimators = [20, 40, 60, 80, 100]\n",
    "\n",
    "for i in num_estimators:\n",
    "    ada_boost = AdaBoostClassifier(n_estimators=i, random_state=12)\n",
    "    results = cross_val_score(ada_boost, X_train, y_train, cv=k_folds)\n",
    "    print(\"Results for {} estimators:\".format(i))\n",
    "    print(results.mean())"
   ]
  },
  {
   "cell_type": "markdown",
   "metadata": {},
   "source": [
    "### XGBoost Classifier"
   ]
  },
  {
   "cell_type": "code",
   "execution_count": 83,
   "metadata": {},
   "outputs": [],
   "source": [
    "from xgboost import XGBClassifier"
   ]
  },
  {
   "cell_type": "code",
   "execution_count": 84,
   "metadata": {},
   "outputs": [
    {
     "data": {
      "text/plain": [
       "XGBClassifier(base_score=0.5, booster=None, colsample_bylevel=1,\n",
       "              colsample_bynode=1, colsample_bytree=1, gamma=0, gpu_id=-1,\n",
       "              importance_type='gain', interaction_constraints=None,\n",
       "              learning_rate=0.300000012, max_delta_step=0, max_depth=6,\n",
       "              min_child_weight=1, missing=nan, monotone_constraints=None,\n",
       "              n_estimators=100, n_jobs=0, num_parallel_tree=1,\n",
       "              objective='binary:logistic', random_state=0, reg_alpha=0,\n",
       "              reg_lambda=1, scale_pos_weight=1, subsample=1, tree_method=None,\n",
       "              validate_parameters=False, verbosity=None)"
      ]
     },
     "execution_count": 84,
     "metadata": {},
     "output_type": "execute_result"
    }
   ],
   "source": [
    "xgb_clf = XGBClassifier()\n",
    "xgb_clf.fit(X_train, y_train)"
   ]
  },
  {
   "cell_type": "code",
   "execution_count": 85,
   "metadata": {},
   "outputs": [],
   "source": [
    "score = xgb_clf.score(X_val, y_val)"
   ]
  },
  {
   "cell_type": "code",
   "execution_count": 86,
   "metadata": {},
   "outputs": [
    {
     "name": "stdout",
     "output_type": "stream",
     "text": [
      "0.8855832241153342\n"
     ]
    }
   ],
   "source": [
    "print(score)"
   ]
  },
  {
   "cell_type": "markdown",
   "metadata": {},
   "source": [
    "### Voting Classifier"
   ]
  },
  {
   "cell_type": "code",
   "execution_count": 93,
   "metadata": {},
   "outputs": [],
   "source": [
    "import pandas as pd\n",
    "from sklearn.preprocessing import MinMaxScaler\n",
    "from sklearn.model_selection import train_test_split\n",
    "from sklearn.metrics import classification_report, confusion_matrix\n",
    "from sklearn.ensemble import VotingClassifier\n",
    "from sklearn.svm import SVC"
   ]
  },
  {
   "cell_type": "code",
   "execution_count": 94,
   "metadata": {},
   "outputs": [],
   "source": [
    "data = df1[['feature_3','feature_5','feature_6','feature_15','feature_8','feature_9','feature_0','feature_1','feature_14']]"
   ]
  },
  {
   "cell_type": "code",
   "execution_count": 95,
   "metadata": {},
   "outputs": [],
   "source": [
    "X = df1.iloc[:,0:9].values# Separating out the target\n",
    "y = df1.iloc[:,-1].values"
   ]
  },
  {
   "cell_type": "code",
   "execution_count": 96,
   "metadata": {},
   "outputs": [],
   "source": [
    "X_train, X_val, y_train, y_val = train_test_split(X_train, y_train, test_size=0.3, random_state=12)"
   ]
  },
  {
   "cell_type": "code",
   "execution_count": 103,
   "metadata": {},
   "outputs": [
    {
     "name": "stdout",
     "output_type": "stream",
     "text": [
      "0.871856607811664\n"
     ]
    }
   ],
   "source": [
    "LogReg_clf = LogisticRegression()\n",
    "DTree_clf = DecisionTreeClassifier()\n",
    "SVC_clf = SVC()\n",
    "\n",
    "LogReg_clf.fit(X_train, y_train)\n",
    "DTree_clf.fit(X_train, y_train)\n",
    "SVC_clf.fit(X_train, y_train)\n",
    "\n",
    "LogReg_pred = LogReg_clf.predict(X_val)\n",
    "DTree_pred = DTree_clf.predict(X_val)\n",
    "SVC_pred = SVC_clf.predict(X_val)\n",
    "\n",
    "averaged_preds = (LogReg_pred + DTree_pred + SVC_pred)//3\n",
    "acc = metrics.accuracy_score(y_val, averaged_preds)\n",
    "print(acc)"
   ]
  },
  {
   "cell_type": "code",
   "execution_count": 107,
   "metadata": {},
   "outputs": [
    {
     "name": "stdout",
     "output_type": "stream",
     "text": [
      "Accuracy is: 0.871856607811664\n",
      "Log Loss is: 4.425915969278282\n",
      "F1 Score is: 0.0\n"
     ]
    }
   ],
   "source": [
    "voting_clf = VotingClassifier(estimators=[('SVC', SVC_clf), ('DTree', DTree_clf), ('LogReg', LogReg_clf)], voting='hard')\n",
    "voting_clf.fit(X_train, y_train)\n",
    "preds = voting_clf.predict(X_val)\n",
    "acc = metrics.accuracy_score(y_val, preds)\n",
    "l_loss = metrics.log_loss(y_val, preds)\n",
    "f1 = metrics.f1_score(y_val, preds)\n",
    "\n",
    "print(\"Accuracy is: \" + str(acc))\n",
    "print(\"Log Loss is: \" + str(l_loss))\n",
    "print(\"F1 Score is: \" + str(f1))"
   ]
  },
  {
   "cell_type": "markdown",
   "metadata": {},
   "source": [
    "### SVM"
   ]
  },
  {
   "cell_type": "code",
   "execution_count": 113,
   "metadata": {},
   "outputs": [],
   "source": [
    "data = df1[['feature_3','feature_5','feature_6','feature_15','feature_8','feature_9','feature_0','feature_1','feature_14']]"
   ]
  },
  {
   "cell_type": "code",
   "execution_count": 114,
   "metadata": {},
   "outputs": [],
   "source": [
    "X = df1.iloc[:,0:9].values# Separating out the target\n",
    "y = df1.iloc[:,-1].values"
   ]
  },
  {
   "cell_type": "code",
   "execution_count": 115,
   "metadata": {},
   "outputs": [],
   "source": [
    "X_train, X_val, y_train, y_val = train_test_split(X_train, y_train, test_size=0.3, random_state=12)"
   ]
  },
  {
   "cell_type": "code",
   "execution_count": 116,
   "metadata": {},
   "outputs": [],
   "source": [
    "from sklearn import svm"
   ]
  },
  {
   "cell_type": "code",
   "execution_count": 117,
   "metadata": {},
   "outputs": [],
   "source": [
    "#Create a svm Classifier\n",
    "clf = svm.SVC(kernel='linear') # Linear Kernel"
   ]
  },
  {
   "cell_type": "code",
   "execution_count": 118,
   "metadata": {},
   "outputs": [
    {
     "data": {
      "text/plain": [
       "SVC(C=1.0, break_ties=False, cache_size=200, class_weight=None, coef0=0.0,\n",
       "    decision_function_shape='ovr', degree=3, gamma='scale', kernel='linear',\n",
       "    max_iter=-1, probability=False, random_state=None, shrinking=True,\n",
       "    tol=0.001, verbose=False)"
      ]
     },
     "execution_count": 118,
     "metadata": {},
     "output_type": "execute_result"
    }
   ],
   "source": [
    "#Train the model using the training sets\n",
    "clf.fit(X_train, y_train)"
   ]
  },
  {
   "cell_type": "code",
   "execution_count": 119,
   "metadata": {},
   "outputs": [],
   "source": [
    "#Predict the response for test dataset\n",
    "y_pred = clf.predict(X_val)"
   ]
  },
  {
   "cell_type": "code",
   "execution_count": 120,
   "metadata": {},
   "outputs": [
    {
     "data": {
      "text/plain": [
       "0.8754298815437523"
      ]
     },
     "execution_count": 120,
     "metadata": {},
     "output_type": "execute_result"
    }
   ],
   "source": [
    "metrics.accuracy_score(y_val, y_pred)"
   ]
  },
  {
   "cell_type": "code",
   "execution_count": null,
   "metadata": {},
   "outputs": [],
   "source": []
  }
 ],
 "metadata": {
  "kernelspec": {
   "display_name": "Python 3",
   "language": "python",
   "name": "python3"
  },
  "language_info": {
   "codemirror_mode": {
    "name": "ipython",
    "version": 3
   },
   "file_extension": ".py",
   "mimetype": "text/x-python",
   "name": "python",
   "nbconvert_exporter": "python",
   "pygments_lexer": "ipython3",
   "version": "3.7.6"
  }
 },
 "nbformat": 4,
 "nbformat_minor": 4
}
